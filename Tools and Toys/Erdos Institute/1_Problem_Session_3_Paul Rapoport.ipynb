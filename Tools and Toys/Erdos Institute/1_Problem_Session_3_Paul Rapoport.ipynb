{
 "cells": [
  {
   "cell_type": "markdown",
   "id": "e73ab097",
   "metadata": {},
   "source": [
    "# Problem Session 3\n",
    "\n",
    "## More Regression\n",
    "\n",
    "The problems in this notebook will cover the content covered in our Regression lectures including:\n",
    "- Multiple Linear Regression\n",
    "- kNN Regression\n",
    "- Categorical Variables and Interactions\n",
    "- Pipelines"
   ]
  },
  {
   "cell_type": "code",
   "execution_count": 60,
   "id": "c455cc0b",
   "metadata": {},
   "outputs": [],
   "source": [
    "## We first load in packages we will need\n",
    "import pandas as pd\n",
    "import numpy as np\n",
    "import matplotlib.pyplot as plt\n",
    "import seaborn as sns\n",
    "import sklearn.model_selection as sklms\n",
    "sns.set_style(\"whitegrid\")"
   ]
  },
  {
   "cell_type": "markdown",
   "id": "ff585fa7",
   "metadata": {},
   "source": [
    "#### 1. Preparing the data\n",
    "\n",
    "In this notebook you will continue to model the median selling price we started in the last problem session. First we have to load the data and repeat some of the cleaning we did in `Problem Session 2`.\n",
    "\n",
    "##### a."
   ]
  },
  {
   "cell_type": "code",
   "execution_count": 61,
   "id": "279b0e98",
   "metadata": {},
   "outputs": [
    {
     "name": "stdout",
     "output_type": "stream",
     "text": [
      "<class 'pandas.core.frame.DataFrame'>\n",
      "Index: 20433 entries, 0 to 20639\n",
      "Data columns (total 10 columns):\n",
      " #   Column              Non-Null Count  Dtype  \n",
      "---  ------              --------------  -----  \n",
      " 0   longitude           20433 non-null  float64\n",
      " 1   latitude            20433 non-null  float64\n",
      " 2   housing_median_age  20433 non-null  float64\n",
      " 3   total_rooms         20433 non-null  float64\n",
      " 4   total_bedrooms      20433 non-null  float64\n",
      " 5   population          20433 non-null  float64\n",
      " 6   households          20433 non-null  float64\n",
      " 7   median_income       20433 non-null  float64\n",
      " 8   median_house_value  20433 non-null  float64\n",
      " 9   ocean_proximity     20433 non-null  object \n",
      "dtypes: float64(9), object(1)\n",
      "memory usage: 1.7+ MB\n"
     ]
    }
   ],
   "source": [
    "# Try to recall how to load the data without peeking.  It is in the data folder and is called housing.csv.\n",
    "housing = pd.read_csv('housing.csv')\n",
    "# drop the rows with null values\n",
    "housing = housing.dropna()\n",
    "\n",
    "def clean_column(text:str) -> float:\n",
    "    text = text[1:] # removes leading $\n",
    "    return float(text.replace(',','')) # removes comma and converts to float\n",
    "\n",
    "# apply clean_column to the median house value.\n",
    "housing.median_house_value = housing.median_house_value.apply(clean_column)\n",
    "\n",
    "housing.info()\n",
    "\n",
    "assert(housing.shape[0] == 20433)\n",
    "assert(housing.median_house_value.dtype == float)"
   ]
  },
  {
   "cell_type": "markdown",
   "id": "be65df52",
   "metadata": {},
   "source": [
    "##### b.\n",
    "\n",
    "Make the train test split using `sklearn`'s `train_test_split`.  Use an 80/20 split.  Use a random state of 216."
   ]
  },
  {
   "cell_type": "code",
   "execution_count": 62,
   "id": "44232cee",
   "metadata": {},
   "outputs": [],
   "source": [
    "housing_train, housing_test = sklms.train_test_split(housing, test_size=0.2, random_state=216)\n",
    "\n",
    "assert(housing_train.shape[0] == int(housing.shape[0]*0.8))"
   ]
  },
  {
   "cell_type": "markdown",
   "id": "db518361",
   "metadata": {},
   "source": [
    "Remember that the data was truncated at an upper limit of $\\$500000$ for the target variable."
   ]
  },
  {
   "cell_type": "code",
   "execution_count": 63,
   "id": "0c08ad7d",
   "metadata": {},
   "outputs": [],
   "source": [
    "# Set aside all of the rows for which the median house value is 500000\n",
    "housing_truncated = housing[housing.median_house_value == 500000]\n",
    "housing_train_truncated = housing_train[housing_train.median_house_value == 500000]\n",
    "housing_test_truncated = housing_test[housing_test.median_house_value == 500000]\n",
    "\n",
    "# Redefine these to only include the non-truncated examples\n",
    "housing = housing[housing.median_house_value < 500000]\n",
    "housing_train = housing_train[housing_train.median_house_value < 500000]\n",
    "housing_test= housing_test[housing_test.median_house_value < 500000]"
   ]
  },
  {
   "cell_type": "markdown",
   "id": "6e142f89",
   "metadata": {},
   "source": [
    "##### c.\n",
    "\n",
    "If you need to, take a moment to refresh yourself on these data."
   ]
  },
  {
   "cell_type": "code",
   "execution_count": 64,
   "id": "29eb9ddc",
   "metadata": {},
   "outputs": [
    {
     "data": {
      "text/html": [
       "<div>\n",
       "<style scoped>\n",
       "    .dataframe tbody tr th:only-of-type {\n",
       "        vertical-align: middle;\n",
       "    }\n",
       "\n",
       "    .dataframe tbody tr th {\n",
       "        vertical-align: top;\n",
       "    }\n",
       "\n",
       "    .dataframe thead th {\n",
       "        text-align: right;\n",
       "    }\n",
       "</style>\n",
       "<table border=\"1\" class=\"dataframe\">\n",
       "  <thead>\n",
       "    <tr style=\"text-align: right;\">\n",
       "      <th></th>\n",
       "      <th>longitude</th>\n",
       "      <th>latitude</th>\n",
       "      <th>housing_median_age</th>\n",
       "      <th>total_rooms</th>\n",
       "      <th>total_bedrooms</th>\n",
       "      <th>population</th>\n",
       "      <th>households</th>\n",
       "      <th>median_income</th>\n",
       "      <th>median_house_value</th>\n",
       "      <th>ocean_proximity</th>\n",
       "    </tr>\n",
       "  </thead>\n",
       "  <tbody>\n",
       "    <tr>\n",
       "      <th>5112</th>\n",
       "      <td>-118.29</td>\n",
       "      <td>33.97</td>\n",
       "      <td>48.0</td>\n",
       "      <td>3139.0</td>\n",
       "      <td>587.0</td>\n",
       "      <td>1319.0</td>\n",
       "      <td>506.0</td>\n",
       "      <td>35208.0</td>\n",
       "      <td>134200.0</td>\n",
       "      <td>&lt;1H OCEAN</td>\n",
       "    </tr>\n",
       "    <tr>\n",
       "      <th>4761</th>\n",
       "      <td>-118.35</td>\n",
       "      <td>34.04</td>\n",
       "      <td>49.0</td>\n",
       "      <td>1104.0</td>\n",
       "      <td>266.0</td>\n",
       "      <td>668.0</td>\n",
       "      <td>297.0</td>\n",
       "      <td>30856.0</td>\n",
       "      <td>151600.0</td>\n",
       "      <td>&lt;1H OCEAN</td>\n",
       "    </tr>\n",
       "  </tbody>\n",
       "</table>\n",
       "</div>"
      ],
      "text/plain": [
       "      longitude  latitude  housing_median_age  total_rooms  total_bedrooms  \\\n",
       "5112    -118.29     33.97                48.0       3139.0           587.0   \n",
       "4761    -118.35     34.04                49.0       1104.0           266.0   \n",
       "\n",
       "      population  households  median_income  median_house_value  \\\n",
       "5112      1319.0       506.0        35208.0            134200.0   \n",
       "4761       668.0       297.0        30856.0            151600.0   \n",
       "\n",
       "     ocean_proximity  \n",
       "5112       <1H OCEAN  \n",
       "4761       <1H OCEAN  "
      ]
     },
     "execution_count": 64,
     "metadata": {},
     "output_type": "execute_result"
    }
   ],
   "source": [
    "housing_train.head(2)"
   ]
  },
  {
   "cell_type": "markdown",
   "id": "1d47521a",
   "metadata": {},
   "source": [
    "#### 2. More EDA\n",
    "\n",
    "In `Problem Session 2` you examined potential linear relationships with `median_house_value` and:\n",
    "- `median_income`,\n",
    "- `households`\n",
    "\n",
    "In this notebook we will do a little feature engineering and also use the `ocean_proximity` categorical variable."
   ]
  },
  {
   "cell_type": "markdown",
   "id": "f1a3d811",
   "metadata": {},
   "source": [
    "##### a. \n",
    "\n",
    "One way to examine if a categorical variable has an impact on an outcome variable is to compare the mean or median of the outcome variable among the different categories.\n",
    "\n",
    "Use `pandas` `groupby`, <a href=\"https://pandas.pydata.org/docs/reference/api/pandas.DataFrame.groupby.html\">https://pandas.pydata.org/docs/reference/api/pandas.DataFrame.groupby.html</a>, to examine the mean  `median_house_value` by the value of `ocean_proximity`.  Use the `.describe()` method."
   ]
  },
  {
   "cell_type": "code",
   "execution_count": 65,
   "id": "035e1002",
   "metadata": {},
   "outputs": [
    {
     "data": {
      "text/plain": [
       "ocean_proximity\n",
       "<1H OCEAN     223837.785304\n",
       "INLAND        123541.885852\n",
       "ISLAND        388233.333333\n",
       "NEAR BAY      234621.752266\n",
       "NEAR OCEAN    227732.135417\n",
       "Name: median_house_value, dtype: float64"
      ]
     },
     "execution_count": 65,
     "metadata": {},
     "output_type": "execute_result"
    }
   ],
   "source": [
    "housing_train['ocean_proximity'].describe()\n",
    "housing_train.groupby(by='ocean_proximity').mean()['median_house_value']\n",
    "# housing_train.groupby(by='ocean_proximity').median()['median_house_value']"
   ]
  },
  {
   "cell_type": "markdown",
   "id": "ef6702cd",
   "metadata": {},
   "source": [
    "##### b.\n",
    "\n",
    "Another way to investigate the potential impact of categorical variables is to make plots examining the distribution of the outcome variable for each different category. \n",
    "\n",
    "Two common plots that are considered are box and whisker plots and violin plots. These can be made quickly using `seaborn`'s `boxplot`, <a href=\"https://seaborn.pydata.org/generated/seaborn.boxplot.html\">https://seaborn.pydata.org/generated/seaborn.boxplot.html/</a>, and `violinplot`, <a href=\"https://seaborn.pydata.org/generated/seaborn.violinplot.html\">https://seaborn.pydata.org/generated/seaborn.violinplot.html</a> functions.\n",
    "\n",
    "Below we will look at the distribution of `median_house_income` by `ocean_proximity` using both."
   ]
  },
  {
   "cell_type": "code",
   "execution_count": 66,
   "id": "c1fdc1ab",
   "metadata": {},
   "outputs": [
    {
     "data": {
      "image/png": "[encoded data removed]",
      "text/plain": [
       "<Figure size 600x500 with 1 Axes>"
      ]
     },
     "metadata": {},
     "output_type": "display_data"
    }
   ],
   "source": [
    "## Boxplot for ocean_proximity\n",
    "plt.figure(figsize=(6,5))\n",
    "\n",
    "sns.boxplot(data = housing_train,\n",
    "               y = 'median_house_value',\n",
    "               x = 'ocean_proximity')\n",
    "\n",
    "plt.yticks(fontsize=10)\n",
    "plt.xticks(fontsize=10)\n",
    "\n",
    "plt.ylabel(\"Median House Value\", fontsize=12)\n",
    "plt.xlabel(\"Ocean Proximity\", fontsize=12)\n",
    "\n",
    "plt.show()"
   ]
  },
  {
   "cell_type": "code",
   "execution_count": 67,
   "id": "6c82597e",
   "metadata": {},
   "outputs": [
    {
     "data": {
      "image/png": "[encoded data removed]",
      "text/plain": [
       "<Figure size 600x500 with 1 Axes>"
      ]
     },
     "metadata": {},
     "output_type": "display_data"
    }
   ],
   "source": [
    "## violinplot for ocean_proximity\n",
    "plt.figure(figsize=(6,5))\n",
    "\n",
    "sns.violinplot(data = housing_train,\n",
    "               y = 'median_house_value',\n",
    "               x = 'ocean_proximity')\n",
    "\n",
    "plt.yticks(fontsize=10)\n",
    "plt.xticks(fontsize=10)\n",
    "\n",
    "plt.ylabel(\"Median House Value\", fontsize=12)\n",
    "plt.xlabel(\"Ocean Proximity\", fontsize=12)\n",
    "\n",
    "plt.show()"
   ]
  },
  {
   "cell_type": "markdown",
   "id": "39c042de",
   "metadata": {},
   "source": [
    "##### c.\n",
    "\n",
    "Discuss any thoughts you have about the `ocean_proximity` variable here.  Will you use all levels?  Will you combine some levels?\n",
    "- I plan to combine 'NEAR BAY', 'NEAR OCEAN', and '<1H OCEAN'; they mean about the same thing and the means and medians of house values look to be very similar.\n",
    "- 'INLAND' consistently predicts a lower value, with a few high outliers (likely from a few of the inland cities/wealthy towns).\n",
    "- 'ISLAND' consistently predicts a very high value."
   ]
  },
  {
   "cell_type": "markdown",
   "id": "e5f766f2",
   "metadata": {},
   "source": [
    "##### d.\n",
    "\n",
    "From your investigations above you likely noticed that `INLAND` seems like a relevant predictor.\n",
    "\n",
    "Create a new column in the data set called `INLAND` that is `1` if the `ocean_proximity` is `INLAND` and `0` otherwise."
   ]
  },
  {
   "cell_type": "code",
   "execution_count": 68,
   "id": "34327717",
   "metadata": {},
   "outputs": [
    {
     "data": {
      "text/html": [
       "<div>\n",
       "<style scoped>\n",
       "    .dataframe tbody tr th:only-of-type {\n",
       "        vertical-align: middle;\n",
       "    }\n",
       "\n",
       "    .dataframe tbody tr th {\n",
       "        vertical-align: top;\n",
       "    }\n",
       "\n",
       "    .dataframe thead th {\n",
       "        text-align: right;\n",
       "    }\n",
       "</style>\n",
       "<table border=\"1\" class=\"dataframe\">\n",
       "  <thead>\n",
       "    <tr style=\"text-align: right;\">\n",
       "      <th></th>\n",
       "      <th>longitude</th>\n",
       "      <th>latitude</th>\n",
       "      <th>housing_median_age</th>\n",
       "      <th>total_rooms</th>\n",
       "      <th>total_bedrooms</th>\n",
       "      <th>population</th>\n",
       "      <th>households</th>\n",
       "      <th>median_income</th>\n",
       "      <th>median_house_value</th>\n",
       "      <th>ocean_proximity</th>\n",
       "      <th>inland</th>\n",
       "    </tr>\n",
       "  </thead>\n",
       "  <tbody>\n",
       "    <tr>\n",
       "      <th>5112</th>\n",
       "      <td>-118.29</td>\n",
       "      <td>33.97</td>\n",
       "      <td>48.0</td>\n",
       "      <td>3139.0</td>\n",
       "      <td>587.0</td>\n",
       "      <td>1319.0</td>\n",
       "      <td>506.0</td>\n",
       "      <td>35208.0</td>\n",
       "      <td>134200.0</td>\n",
       "      <td>&lt;1H OCEAN</td>\n",
       "      <td>0</td>\n",
       "    </tr>\n",
       "    <tr>\n",
       "      <th>4761</th>\n",
       "      <td>-118.35</td>\n",
       "      <td>34.04</td>\n",
       "      <td>49.0</td>\n",
       "      <td>1104.0</td>\n",
       "      <td>266.0</td>\n",
       "      <td>668.0</td>\n",
       "      <td>297.0</td>\n",
       "      <td>30856.0</td>\n",
       "      <td>151600.0</td>\n",
       "      <td>&lt;1H OCEAN</td>\n",
       "      <td>0</td>\n",
       "    </tr>\n",
       "    <tr>\n",
       "      <th>9340</th>\n",
       "      <td>-122.59</td>\n",
       "      <td>37.99</td>\n",
       "      <td>36.0</td>\n",
       "      <td>4869.0</td>\n",
       "      <td>871.0</td>\n",
       "      <td>1899.0</td>\n",
       "      <td>827.0</td>\n",
       "      <td>41659.0</td>\n",
       "      <td>302000.0</td>\n",
       "      <td>NEAR BAY</td>\n",
       "      <td>0</td>\n",
       "    </tr>\n",
       "    <tr>\n",
       "      <th>5655</th>\n",
       "      <td>-118.30</td>\n",
       "      <td>33.74</td>\n",
       "      <td>23.0</td>\n",
       "      <td>3075.0</td>\n",
       "      <td>860.0</td>\n",
       "      <td>1584.0</td>\n",
       "      <td>806.0</td>\n",
       "      <td>29386.0</td>\n",
       "      <td>260500.0</td>\n",
       "      <td>NEAR OCEAN</td>\n",
       "      <td>0</td>\n",
       "    </tr>\n",
       "    <tr>\n",
       "      <th>2890</th>\n",
       "      <td>-118.98</td>\n",
       "      <td>35.39</td>\n",
       "      <td>29.0</td>\n",
       "      <td>607.0</td>\n",
       "      <td>177.0</td>\n",
       "      <td>476.0</td>\n",
       "      <td>143.0</td>\n",
       "      <td>11875.0</td>\n",
       "      <td>50700.0</td>\n",
       "      <td>INLAND</td>\n",
       "      <td>1</td>\n",
       "    </tr>\n",
       "    <tr>\n",
       "      <th>16494</th>\n",
       "      <td>-121.12</td>\n",
       "      <td>38.00</td>\n",
       "      <td>36.0</td>\n",
       "      <td>683.0</td>\n",
       "      <td>159.0</td>\n",
       "      <td>505.0</td>\n",
       "      <td>141.0</td>\n",
       "      <td>34265.0</td>\n",
       "      <td>158900.0</td>\n",
       "      <td>INLAND</td>\n",
       "      <td>1</td>\n",
       "    </tr>\n",
       "    <tr>\n",
       "      <th>3480</th>\n",
       "      <td>-118.52</td>\n",
       "      <td>34.29</td>\n",
       "      <td>28.0</td>\n",
       "      <td>2272.0</td>\n",
       "      <td>320.0</td>\n",
       "      <td>868.0</td>\n",
       "      <td>312.0</td>\n",
       "      <td>77464.0</td>\n",
       "      <td>474600.0</td>\n",
       "      <td>&lt;1H OCEAN</td>\n",
       "      <td>0</td>\n",
       "    </tr>\n",
       "    <tr>\n",
       "      <th>465</th>\n",
       "      <td>-122.28</td>\n",
       "      <td>37.86</td>\n",
       "      <td>52.0</td>\n",
       "      <td>938.0</td>\n",
       "      <td>195.0</td>\n",
       "      <td>393.0</td>\n",
       "      <td>189.0</td>\n",
       "      <td>38594.0</td>\n",
       "      <td>196400.0</td>\n",
       "      <td>NEAR BAY</td>\n",
       "      <td>0</td>\n",
       "    </tr>\n",
       "    <tr>\n",
       "      <th>2563</th>\n",
       "      <td>-124.16</td>\n",
       "      <td>40.80</td>\n",
       "      <td>52.0</td>\n",
       "      <td>1703.0</td>\n",
       "      <td>500.0</td>\n",
       "      <td>952.0</td>\n",
       "      <td>435.0</td>\n",
       "      <td>11386.0</td>\n",
       "      <td>74100.0</td>\n",
       "      <td>NEAR OCEAN</td>\n",
       "      <td>0</td>\n",
       "    </tr>\n",
       "    <tr>\n",
       "      <th>6225</th>\n",
       "      <td>-117.93</td>\n",
       "      <td>34.05</td>\n",
       "      <td>32.0</td>\n",
       "      <td>3055.0</td>\n",
       "      <td>623.0</td>\n",
       "      <td>1902.0</td>\n",
       "      <td>565.0</td>\n",
       "      <td>42926.0</td>\n",
       "      <td>190700.0</td>\n",
       "      <td>&lt;1H OCEAN</td>\n",
       "      <td>0</td>\n",
       "    </tr>\n",
       "  </tbody>\n",
       "</table>\n",
       "</div>"
      ],
      "text/plain": [
       "       longitude  latitude  housing_median_age  total_rooms  total_bedrooms  \\\n",
       "5112     -118.29     33.97                48.0       3139.0           587.0   \n",
       "4761     -118.35     34.04                49.0       1104.0           266.0   \n",
       "9340     -122.59     37.99                36.0       4869.0           871.0   \n",
       "5655     -118.30     33.74                23.0       3075.0           860.0   \n",
       "2890     -118.98     35.39                29.0        607.0           177.0   \n",
       "16494    -121.12     38.00                36.0        683.0           159.0   \n",
       "3480     -118.52     34.29                28.0       2272.0           320.0   \n",
       "465      -122.28     37.86                52.0        938.0           195.0   \n",
       "2563     -124.16     40.80                52.0       1703.0           500.0   \n",
       "6225     -117.93     34.05                32.0       3055.0           623.0   \n",
       "\n",
       "       population  households  median_income  median_house_value  \\\n",
       "5112       1319.0       506.0        35208.0            134200.0   \n",
       "4761        668.0       297.0        30856.0            151600.0   \n",
       "9340       1899.0       827.0        41659.0            302000.0   \n",
       "5655       1584.0       806.0        29386.0            260500.0   \n",
       "2890        476.0       143.0        11875.0             50700.0   \n",
       "16494       505.0       141.0        34265.0            158900.0   \n",
       "3480        868.0       312.0        77464.0            474600.0   \n",
       "465         393.0       189.0        38594.0            196400.0   \n",
       "2563        952.0       435.0        11386.0             74100.0   \n",
       "6225       1902.0       565.0        42926.0            190700.0   \n",
       "\n",
       "      ocean_proximity  inland  \n",
       "5112        <1H OCEAN       0  \n",
       "4761        <1H OCEAN       0  \n",
       "9340         NEAR BAY       0  \n",
       "5655       NEAR OCEAN       0  \n",
       "2890           INLAND       1  \n",
       "16494          INLAND       1  \n",
       "3480        <1H OCEAN       0  \n",
       "465          NEAR BAY       0  \n",
       "2563       NEAR OCEAN       0  \n",
       "6225        <1H OCEAN       0  "
      ]
     },
     "execution_count": 68,
     "metadata": {},
     "output_type": "execute_result"
    }
   ],
   "source": [
    "housing_train['inland'] = 0\n",
    "housing_train.loc[housing_train['ocean_proximity'] == 'INLAND', 'inland'] = 1\n",
    "housing_train.head(10)"
   ]
  },
  {
   "cell_type": "markdown",
   "id": "26a76e94",
   "metadata": {},
   "source": [
    "e. \n",
    "\n",
    "Rather than regressing on the total number of rooms, it seems a bit more sensible to use average number of rooms per household.  Create a new feature called `rooms_per_household`."
   ]
  },
  {
   "cell_type": "code",
   "execution_count": 31,
   "id": "f83e1fcb",
   "metadata": {},
   "outputs": [],
   "source": [
    "housing_train['rooms_per_household'] = housing_train['total_rooms']/housing_train['households']"
   ]
  },
  {
   "cell_type": "markdown",
   "id": "4635a669",
   "metadata": {},
   "source": [
    "#### 4. Comparing models\n",
    "\n",
    "##### a.\n",
    "\n",
    "Use cross validation to compare the following models:\n",
    "\n",
    "* A simple linear regression on `median_income`\n",
    "* A multiple linear regression using all of the features\n",
    "* A kNN model using all of the features"
   ]
  },
  {
   "cell_type": "markdown",
   "id": "90aa5138",
   "metadata": {},
   "source": [
    "##### b. \n",
    "\n",
    "Create a pipeline for a kNN model.  It should first standardize the features and then train a kNN model with $k=10$ on those standardized features.  Train the model on the first $80\\%$ of the training data and evaluate it on the rest.\n",
    "\n",
    "We are doing this before cross-validation for pedagogical reasons:  probably the first time you write a pipeline should not be inside a loop where it is a little harder to debug."
   ]
  },
  {
   "cell_type": "code",
   "execution_count": null,
   "id": "a3900d9f",
   "metadata": {},
   "outputs": [],
   "source": [
    "housing_train.columns"
   ]
  },
  {
   "cell_type": "code",
   "execution_count": 15,
   "id": "d42ab3c0",
   "metadata": {},
   "outputs": [],
   "source": [
    "features = ['longitude', 'latitude', 'housing_median_age', 'total_rooms',\n",
    "       'total_bedrooms', 'population', 'households', 'median_income', 'INLAND',\n",
    "       'rooms_per_household']\n",
    "\n",
    "housing_train.dropna()"
   ]
  },
  {
   "cell_type": "code",
   "execution_count": null,
   "id": "715b0ebd",
   "metadata": {},
   "outputs": [],
   "source": [
    "housing_tt, housing_ho = sklms.train_test_split(housing_train, test_size=0.2, random_state=518)"
   ]
  },
  {
   "cell_type": "code",
   "execution_count": null,
   "id": "d7eb26ec",
   "metadata": {},
   "outputs": [],
   "source": [
    "from sklearn.pipeline import \n",
    "from sklearn.preprocessing import \n",
    "from sklearn.neighbors import KNeighborsRegressor \n",
    "from sklearn.metrics import root_mean_squared_error \n",
    "\n",
    "knn = KNeighborsRegressor()\n",
    "knn.fit(housing_tt[['latitude', 'longitude']], housing_tt.median_house_value)\n",
    "\n",
    "#housing_tt is the first 80% of the rows, housing_val is the last 80% of the rows\n",
    "housing_tt = \n",
    "housing_val = \n",
    "\n",
    "\n",
    "val_predictions =\n",
    "val_rmse = \n",
    "print(val_rmse)"
   ]
  },
  {
   "cell_type": "markdown",
   "id": "66dcfe93",
   "metadata": {},
   "source": [
    "##### c.\n",
    "\n",
    "Perform 5-fold cross-validation to compare all of the models from 4a."
   ]
  },
  {
   "cell_type": "code",
   "execution_count": 22,
   "id": "7b0e4b38",
   "metadata": {},
   "outputs": [],
   "source": [
    "from sklearn.model_selection import \n",
    "from sklearn.linear_model import "
   ]
  },
  {
   "cell_type": "code",
   "execution_count": 24,
   "id": "70ea1203",
   "metadata": {},
   "outputs": [],
   "source": [
    "## Make a KFold object\n",
    "## remember to set a random_state and set shuffle = True\n",
    "num_splits = 5\n",
    "num_models = 3\n",
    "kfold = KFold(num_splits,\n",
    "              random_state = 216,\n",
    "              shuffle=True)\n",
    "\n",
    "\n",
    "## This array will hold the mse for each model and split\n",
    "rmses = np.zeros((num_models, num_splits))\n",
    "\n",
    "## sets a split counter\n",
    "i = 0\n",
    "\n",
    "## loop through the kfold here\n"
   ]
  },
  {
   "cell_type": "code",
   "execution_count": null,
   "id": "b43c74d6",
   "metadata": {},
   "outputs": [],
   "source": [
    "rmses.mean(axis = 1), rmses.std(axis = 1)"
   ]
  },
  {
   "cell_type": "markdown",
   "id": "c6ec597c",
   "metadata": {},
   "source": [
    "Compare/Contrast the performance of these models.  How did they compare with the models from last week?"
   ]
  },
  {
   "cell_type": "markdown",
   "id": "2ea85650",
   "metadata": {},
   "source": [
    "### BONUS\n",
    "\n",
    "If you somehow still have time to work on a bonus activity, try this!\n",
    "\n",
    "Fill in the blanks for the class called `KNN_then_Linear` below which first fits a KNN model to one subset of the features and then fits a linear model to the residuals of the KNN model using another subset of the features.\n",
    "\n",
    "This is a simple example of a strategy called \"boosting\" which we will cover in more depth later.\n",
    "\n",
    "What is the cross validation rmse of this model when we use lat/lon for the KNN features and median income and INLAND for the linear feature?"
   ]
  },
  {
   "cell_type": "code",
   "execution_count": null,
   "id": "eb60e00f",
   "metadata": {},
   "outputs": [],
   "source": [
    "class KNN_then_Linear():\n",
    "    def __init__(self, knn_features, linear_features, n_neighbors = 10):\n",
    "        '''\n",
    "        knn_features: A list of feature names for knn\n",
    "        linear_features: A list of feature names for linear regression on the residuals of the knn model\n",
    "        n_neighbors: The number of neighbors used by knn\n",
    "        '''\n",
    "        self.knn = None\n",
    "        self.linear = None\n",
    "        self.n_neighbors = n_neighbors\n",
    "        self.knn_features = knn_features\n",
    "        self.linear_features = linear_features\n",
    "    def fit(self,X,y):\n",
    "        '''\n",
    "        X:  A pandas dataframe.  It must have all features in knn_features and linear_features\n",
    "        y:  A pandas series.\n",
    "        '''\n",
    "        # Instantiate knn model object\n",
    "        self.knn = \n",
    "        # Fit self.knn\n",
    "\n",
    "        # Get the predictions\n",
    "        predictions = \n",
    "\n",
    "        # Get the residuals\n",
    "        residuals = \n",
    "\n",
    "        # Instantiate the linear regression model object\n",
    "        self.linear = \n",
    "\n",
    "        # Fit self.linear using the residuals as targets.\n",
    "        \n",
    "\n",
    "    def predict(self,X):\n",
    "        '''\n",
    "        X:  A pandas dataframe.  It must have all features in knn_features and linear_features\n",
    "        returns: the prediction of the model on X\n",
    "        '''\n",
    "        # Should return the sum of the predictions from self.knn and self.linear\n",
    "        return "
   ]
  },
  {
   "cell_type": "code",
   "execution_count": null,
   "id": "63e310dd",
   "metadata": {},
   "outputs": [],
   "source": [
    "num_splits = 5\n",
    "kfold = KFold(num_splits,\n",
    "              random_state = 216,\n",
    "              shuffle=True)\n",
    "\n",
    "rmses_ktl = np.zeros(num_splits)\n",
    "\n",
    "i=0\n",
    "for train_index, test_index in kfold.split(housing_train):\n",
    "    ## cv training set\n",
    "    housing_tt = housing_train.iloc[train_index]\n",
    "    \n",
    "    ## cv holdout set\n",
    "    housing_ho = housing_train.iloc[test_index]\n",
    "      \n",
    "    ## Fit and get ho mse for mlr model\n",
    "    ktl = KNN_then_Linear(knn_features=['latitude','longitude'], linear_features=['median_income', 'INLAND'])\n",
    "    \n",
    "    ktl.fit(housing_tt[['latitude','longitude', 'median_income', 'INLAND']], housing_tt.median_house_value)    \n",
    "    rmses_ktl[i] = root_mean_squared_error(housing_ho.median_house_value, ktl.predict(housing_ho[['latitude','longitude', 'median_income', 'INLAND']]))\n",
    "    i = i + 1"
   ]
  },
  {
   "cell_type": "code",
   "execution_count": null,
   "id": "9ca2953f",
   "metadata": {},
   "outputs": [],
   "source": [
    "rmses_ktl.mean()"
   ]
  },
  {
   "cell_type": "markdown",
   "id": "243026ee",
   "metadata": {},
   "source": [
    "Our best performing model yet!"
   ]
  },
  {
   "cell_type": "markdown",
   "id": "81205ab9",
   "metadata": {},
   "source": [
    "--------------------------\n",
    "\n",
    "This notebook was written for the Erdős Institute Data Science Boot Camp by Steven Gubkin.\n",
    "\n",
    "Please refer to the license in this repo for information on redistribution."
   ]
  }
 ],
 "metadata": {
  "kernelspec": {
   "display_name": "erdos_spring_2025",
   "language": "python",
   "name": "python3"
  },
  "language_info": {
   "codemirror_mode": {
    "name": "ipython",
    "version": 3
   },
   "file_extension": ".py",
   "mimetype": "text/x-python",
   "name": "python",
   "nbconvert_exporter": "python",
   "pygments_lexer": "ipython3",
   "version": "3.12.8"
  }
 },
 "nbformat": 4,
 "nbformat_minor": 5
}
